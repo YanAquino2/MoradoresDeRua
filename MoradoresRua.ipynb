{
 "cells": [
  {
   "cell_type": "markdown",
   "id": "800a93d1-db5d-4ada-a01b-ad753dad0934",
   "metadata": {},
   "source": [
    ">__Estudo feito sobre moradores de rua__"
   ]
  },
  {
   "cell_type": "markdown",
   "id": "c0edf006-a394-401c-b021-8ce0afd6ccbd",
   "metadata": {},
   "source": [
    "##### Utilizando a base do censo realizado em 2020 pelo Instituto Pereira Passos"
   ]
  },
  {
   "cell_type": "markdown",
   "id": "f6209284-9fc8-4c44-837e-4dde3818caed",
   "metadata": {},
   "source": [
    "* O objetivo do estudo é entender quais variáveis são as que mais explicam o fato de algum morador de rua responder que não tem interesse em sair dessa situação."
   ]
  },
  {
   "cell_type": "markdown",
   "id": "d32a5d26-e98f-49ee-bf6b-0b5feafdf874",
   "metadata": {},
   "source": [
    "Primeira parte do estudo foi entender a base que temos e realizar toda a limpeza dos dados. O censo resultou em uma tabela com mais de 100 variáveis e 7.272 observações. Cada uma dessa observação é independente pois representa cada morador de rua."
   ]
  },
  {
   "cell_type": "markdown",
   "id": "46e95fba-2bd6-4510-9e71-350b099205df",
   "metadata": {},
   "source": [
    "O processo de limpeza e análise descritiva dos dados foram feitos no Excel por conta da baixa quantidade de observações."
   ]
  },
  {
   "cell_type": "markdown",
   "id": "71c960ff-2869-4381-8378-58c1621afd31",
   "metadata": {},
   "source": [
    "A tabela final que foi utilizada para o estudo possui 3.548 observações e mantive 23 variáveis que identifiquei como interessante para o estudo. As variáveis são:\n",
    "\n",
    "_Rua ou Acolhimento, Estado, Bairro, Faixa Etária, Classificação idade, Sexo, Gênero, Cor, Contato com a família, motivo de dormir na rua, tempo na rua, atividade remunerada, atividade realizada, Recebe outras fontes de renda, saber ler e escrever, Escolaridade, Tabaco, Álcool, Maconha/Haxixe, Crack/similares, Cocaína, Inalantes/cola/solvente/tiner, necessidade de sair da situação._"
   ]
  },
  {
   "cell_type": "markdown",
   "id": "095ec32c-eeca-47d2-8022-9833a5c1356f",
   "metadata": {},
   "source": [
    "A última variável acima é \"Necessidade de sair da situação\" e nessa variável há duas respostas possíveis, sendo \"Quero sair da rua\" e \"Não quero sair da rua\". Da base utilizada, aproximadamente 6% respondeu que não deseja sair da rua. Esse resultado chamou atenção e resolvi tentar entender quais das outras variáveis tem um grau de significância maior para explicar a possibilidade de alguém responder que não deseja sair dessa situação."
   ]
  },
  {
   "cell_type": "markdown",
   "id": "95424f48-fa0a-4593-9070-3f6b4aee90d9",
   "metadata": {},
   "source": [
    "__O método utilizado para essa análise foi a criação de um modelo de regressão logística binário, já que a nossa variável dependente possui apenas duas categorias.__"
   ]
  },
  {
   "cell_type": "markdown",
   "id": "4b45d555-02c9-4be7-9db7-d595af5e92d0",
   "metadata": {},
   "source": [
    "_Importando as bibliotecas que serão utilizadas._"
   ]
  },
  {
   "cell_type": "code",
   "execution_count": 18,
   "id": "7e1d055a-9199-4f9f-89b3-0bb17bb6ae4e",
   "metadata": {},
   "outputs": [
    {
     "name": "stderr",
     "output_type": "stream",
     "text": [
      "Updating HTML index of packages in '.Library'\n",
      "Making 'packages.html' ... done\n"
     ]
    }
   ],
   "source": [
    "install.packages('tidyverse')\n",
    "library(tidyverse)"
   ]
  },
  {
   "cell_type": "code",
   "execution_count": 19,
   "id": "8fb9118e-44e5-4ad6-8340-b46242c8058f",
   "metadata": {},
   "outputs": [
    {
     "name": "stderr",
     "output_type": "stream",
     "text": [
      "Updating HTML index of packages in '.Library'\n",
      "Making 'packages.html' ... done\n"
     ]
    }
   ],
   "source": [
    "install.packages('readxl')\n",
    "library(readxl)"
   ]
  },
  {
   "cell_type": "code",
   "execution_count": 20,
   "id": "8a7c176d-c94d-48c3-bb4d-9d61c1d19b23",
   "metadata": {},
   "outputs": [
    {
     "name": "stderr",
     "output_type": "stream",
     "text": [
      "Warning message:\n",
      "“package ‘CaTools’ is not available (for R version 3.5.1)”"
     ]
    },
    {
     "ename": "ERROR",
     "evalue": "Error in library(CaTools): there is no package called ‘CaTools’\n",
     "execution_count": 20,
     "output_type": "error",
     "traceback": [
      "Error in library(CaTools): there is no package called ‘CaTools’\nTraceback:\n",
      "1. library(CaTools)",
      "2. stop(txt, domain = NA)"
     ]
    }
   ],
   "source": [
    "install.packages('CaTools')\n",
    "library(CaTools)"
   ]
  },
  {
   "cell_type": "markdown",
   "id": "09211bfe-8708-472e-b3ab-f0bd27e89323",
   "metadata": {},
   "source": [
    "**Como é visto acima, a biblioteca CaTools não está disponível para a versão do R do Jupyter Lab. Por esse motivo, essa linha do código deu erro e um pouco mais abaixo quando eu utilizo a função sample.split também dará erro. Caso queira ver os resultados desses comandos, oriento a colocar essas linhas de código no R e rodar no próprio computador.**"
   ]
  },
  {
   "cell_type": "markdown",
   "id": "c53eeac0-f8ea-4c88-beec-3128c64058cb",
   "metadata": {},
   "source": [
    "_Primeira parte da programação foi importar a base que será utilizada e fazer as primeiras avaliações._\n",
    "\n",
    "_Utilizei o summary para avaliar os nomes das colunas, a quantidade de observações e a classe da variável._\n",
    "\n",
    "_AnyNA para confirmar que o tratamento no Excel foi feito corretamente e não temos mais nenhum NA._"
   ]
  },
  {
   "cell_type": "code",
   "execution_count": 21,
   "id": "c1fd1e76-9f0a-41af-bfff-a026d6eda4af",
   "metadata": {},
   "outputs": [],
   "source": [
    "Base <- read_excel(\"Base variaveis definidas.xlsx\")"
   ]
  },
  {
   "cell_type": "markdown",
   "id": "bc759654-6064-423c-b0ef-66c42d7e2bb6",
   "metadata": {},
   "source": [
    "_Transformando todas as 23 variáveis para fator e utilizando o summary mais uma vez. Porém dessa vez, o summary ele trará a quantidade de observações por categoria._"
   ]
  },
  {
   "cell_type": "code",
   "execution_count": 22,
   "id": "78314605-9ccc-4a2c-bedb-6ae32e7e3b19",
   "metadata": {},
   "outputs": [
    {
     "data": {
      "text/plain": [
       "   RuaAcolhimento            Estado             Bairro      Faixa_etaria \n",
       " Acolhidos:1059   Rio de Janeiro:2684   Centro     : 803   31 a 49:1716  \n",
       " Rua      :2489   Minas Gerais  : 176   Copacabana : 216   18 a 30: 718  \n",
       "                  Bahia         : 105   Paciência  : 163   50 a 59: 660  \n",
       "                  São Paulo     :  90   Galeão     : 150   60 a 69: 276  \n",
       "                  Paraíba       :  79   Cidade Nova: 130   12 a 17:  93  \n",
       "                  Ceará         :  77   Bangu      : 104   70 a 79:  61  \n",
       "                  (Other)       : 337   (Other)    :1982   (Other):  24  \n",
       "     Classificacao_idade        Sexo               Genero    \n",
       " Adolescente   :  93     Feminino : 551   Homem Cis   :2909  \n",
       " Adulto        :3094     Masculino:2997   Homem Trans :  16  \n",
       " Criança       :   1                      Mulher Cis  : 513  \n",
       " Idoso         : 350                      Mulher Trans:  33  \n",
       " Sem informação:  10                      Outro       :  65  \n",
       "                                          Travesti    :  12  \n",
       "                                                             \n",
       "             Cor_raca    Contato_familia\n",
       " Amarela         :  77   Não:1575       \n",
       " Branca          : 712   Sim:1973       \n",
       " Indígena        :  16                  \n",
       " Não identificada:  19                  \n",
       " Parda           :1484                  \n",
       " Preta           :1240                  \n",
       "                                        \n",
       "                                         Motivo_dormir_rua\n",
       " Não se aplica                                    :1539   \n",
       " Conflitos familiares (inclui separação)          : 933   \n",
       " Alcoolismo e/ou uso de drogas                    : 349   \n",
       " Demissão do trabalho/desemprego ou perda da renda: 302   \n",
       " Outros                                           : 175   \n",
       " Sofria ameaças, abusos ou violência              :  49   \n",
       " (Other)                                          : 201   \n",
       "                    Tempo_rua_RJ                  Atividade_remunerada\n",
       " Não se aplica            :1539   Não                       :1150     \n",
       " Mais de 1 ano até 5 anos : 554   Sim, de carteira assinada :  86     \n",
       " Mais de 5 ano até 10 anos: 325   Sim, sem carteira assinada:2312     \n",
       " Mais de 1 mês até 6 meses: 294                                       \n",
       " Mais de 15 anos          : 258                                       \n",
       " Mais de 6 meses até 1 ano: 222                                       \n",
       " (Other)                  : 356                                       \n",
       "                                        Atividade_realizada\n",
       " Não se aplica                                    :1236    \n",
       " Catar materiais recicláveis ou lixo              :1102    \n",
       " Vender produtos como camelô ou ambulante         : 613    \n",
       " Outra                                            : 208    \n",
       " Guardar, lavar e/ou cuidar de carros (flanelinha): 115    \n",
       " Serviços gerais                                  :  82    \n",
       " (Other)                                          : 192    \n",
       " Recebe_outras_fontes_de_renda\n",
       " Sim:3548                     \n",
       "                              \n",
       "                              \n",
       "                              \n",
       "                              \n",
       "                              \n",
       "                              \n",
       "                                      Sabe_ler_escrever\n",
       " Não, não sei ler e escrever um bilhete simples: 422   \n",
       " Sim                                           :3126   \n",
       "                                                       \n",
       "                                                       \n",
       "                                                       \n",
       "                                                       \n",
       "                                                       \n",
       "            Escolaridade_corrigida Tabaco     Alcool     Maconha_Haxixe\n",
       " Fundamental incompleto:2142       Não:1282   Não:1620   Não:2247      \n",
       " Médio completo        : 452       Sim:2266   Sim:1928   Sim:1301      \n",
       " Médio incompleto      : 322                                           \n",
       " Não se aplica         : 226                                           \n",
       " Fundamental completo  : 220                                           \n",
       " Superior incompleto   :  82                                           \n",
       " (Other)               : 104                                           \n",
       " Crack_Similares Cocaina    Inalantes_Cola_Solvente_Tiner\n",
       " Não:2849        Não:2489   Não:3227                     \n",
       " Sim: 699        Sim:1059   Sim: 321                     \n",
       "                                                         \n",
       "                                                         \n",
       "                                                         \n",
       "                                                         \n",
       "                                                         \n",
       "         Necessidade_sair_situacao\n",
       " Não quero sair da rua: 212       \n",
       " Quero sair da rua    :3336       \n",
       "                                  \n",
       "                                  \n",
       "                                  \n",
       "                                  \n",
       "                                  "
      ]
     },
     "metadata": {},
     "output_type": "display_data"
    }
   ],
   "source": [
    "Base$RuaAcolhimento <- as.factor(Base$RuaAcolhimento)\n",
    "Base$Estado <- as.factor(Base$Estado)\n",
    "Base$Bairro <- as.factor(Base$Bairro)\n",
    "Base$Faixa_etaria <- as.factor(Base$Faixa_etaria)\n",
    "Base$Classificacao_idade <- as.factor(Base$Classificacao_idade)\n",
    "Base$Sexo <- as.factor(Base$Sexo)\n",
    "Base$Genero <- as.factor(Base$Genero)\n",
    "Base$Cor_raca <- as.factor(Base$Cor_raca)\n",
    "Base$Contato_familia <- as.factor(Base$Contato_familia)\n",
    "Base$Motivo_dormir_rua <- as.factor(Base$Motivo_dormir_rua)\n",
    "Base$Tempo_rua_RJ <- as.factor(Base$Tempo_rua_RJ)\n",
    "Base$Atividade_remunerada <- as.factor(Base$Atividade_remunerada)\n",
    "Base$Atividade_realizada <- as.factor(Base$Atividade_realizada)\n",
    "Base$Recebe_outras_fontes_de_renda <- as.factor(Base$Recebe_outras_fontes_de_renda)\n",
    "Base$Sabe_ler_escrever <- as.factor(Base$Sabe_ler_escrever)\n",
    "Base$Escolaridade_corrigida <- as.factor(Base$Escolaridade_corrigida)\n",
    "Base$Tabaco <- as.factor(Base$Tabaco)\n",
    "Base$Alcool <- as.factor(Base$Alcool)\n",
    "Base$Maconha_Haxixe <- as.factor(Base$Maconha_Haxixe)\n",
    "Base$Crack_Similares <- as.factor(Base$Crack_Similares)\n",
    "Base$Cocaina <- as.factor(Base$Cocaina)\n",
    "Base$Inalantes_Cola_Solvente_Tiner <- as.factor(Base$Inalantes_Cola_Solvente_Tiner)\n",
    "Base$Necessidade_sair_situacao <- as.factor(Base$Necessidade_sair_situacao)\n",
    "summary(Base)"
   ]
  },
  {
   "cell_type": "markdown",
   "id": "14010b65-9e54-4a27-bb15-115473e9f4fa",
   "metadata": {},
   "source": [
    "_Código abaixo para verificar as categorias de referência de cada variável._\n",
    "\n",
    "_Utilizei o comando str para verificar a quantidade de categorias por variável e confirmar se todas estão como fator._"
   ]
  },
  {
   "cell_type": "code",
   "execution_count": 23,
   "id": "a75e2143-dcc2-40f3-90af-3447d2d69b21",
   "metadata": {},
   "outputs": [
    {
     "data": {
      "text/html": [
       "<style>\n",
       ".list-inline {list-style: none; margin:0; padding: 0}\n",
       ".list-inline>li {display: inline-block}\n",
       ".list-inline>li:not(:last-child)::after {content: \"\\00b7\"; padding: 0 .5ex}\n",
       "</style>\n",
       "<ol class=list-inline><li>'Acolhidos'</li><li>'Rua'</li></ol>\n"
      ],
      "text/latex": [
       "\\begin{enumerate*}\n",
       "\\item 'Acolhidos'\n",
       "\\item 'Rua'\n",
       "\\end{enumerate*}\n"
      ],
      "text/markdown": [
       "1. 'Acolhidos'\n",
       "2. 'Rua'\n",
       "\n",
       "\n"
      ],
      "text/plain": [
       "[1] \"Acolhidos\" \"Rua\"      "
      ]
     },
     "metadata": {},
     "output_type": "display_data"
    },
    {
     "data": {
      "text/html": [
       "<style>\n",
       ".list-inline {list-style: none; margin:0; padding: 0}\n",
       ".list-inline>li {display: inline-block}\n",
       ".list-inline>li:not(:last-child)::after {content: \"\\00b7\"; padding: 0 .5ex}\n",
       "</style>\n",
       "<ol class=list-inline><li>'Acre'</li><li>'Alagoas'</li><li>'Amazonas'</li><li>'Bahia'</li><li>'Ceará'</li><li>'Distrito Federal'</li><li>'Espírito Santo'</li><li>'Goiás'</li><li>'Maranhão'</li><li>'Mato Grosso'</li><li>'Mato Grosso do Sul'</li><li>'Minas Gerais'</li><li>'Não se aplica'</li><li>'Pará'</li><li>'Paraíba'</li><li>'Paraná'</li><li>'Pernambuco'</li><li>'Piauí'</li><li>'Rio de Janeiro'</li><li>'Rio Grande do Norte'</li><li>'Rio Grande do Sul'</li><li>'Rondônia'</li><li>'Roraima'</li><li>'Santa Catarina'</li><li>'São Paulo'</li><li>'Sergipe'</li><li>'Tocantins'</li></ol>\n"
      ],
      "text/latex": [
       "\\begin{enumerate*}\n",
       "\\item 'Acre'\n",
       "\\item 'Alagoas'\n",
       "\\item 'Amazonas'\n",
       "\\item 'Bahia'\n",
       "\\item 'Ceará'\n",
       "\\item 'Distrito Federal'\n",
       "\\item 'Espírito Santo'\n",
       "\\item 'Goiás'\n",
       "\\item 'Maranhão'\n",
       "\\item 'Mato Grosso'\n",
       "\\item 'Mato Grosso do Sul'\n",
       "\\item 'Minas Gerais'\n",
       "\\item 'Não se aplica'\n",
       "\\item 'Pará'\n",
       "\\item 'Paraíba'\n",
       "\\item 'Paraná'\n",
       "\\item 'Pernambuco'\n",
       "\\item 'Piauí'\n",
       "\\item 'Rio de Janeiro'\n",
       "\\item 'Rio Grande do Norte'\n",
       "\\item 'Rio Grande do Sul'\n",
       "\\item 'Rondônia'\n",
       "\\item 'Roraima'\n",
       "\\item 'Santa Catarina'\n",
       "\\item 'São Paulo'\n",
       "\\item 'Sergipe'\n",
       "\\item 'Tocantins'\n",
       "\\end{enumerate*}\n"
      ],
      "text/markdown": [
       "1. 'Acre'\n",
       "2. 'Alagoas'\n",
       "3. 'Amazonas'\n",
       "4. 'Bahia'\n",
       "5. 'Ceará'\n",
       "6. 'Distrito Federal'\n",
       "7. 'Espírito Santo'\n",
       "8. 'Goiás'\n",
       "9. 'Maranhão'\n",
       "10. 'Mato Grosso'\n",
       "11. 'Mato Grosso do Sul'\n",
       "12. 'Minas Gerais'\n",
       "13. 'Não se aplica'\n",
       "14. 'Pará'\n",
       "15. 'Paraíba'\n",
       "16. 'Paraná'\n",
       "17. 'Pernambuco'\n",
       "18. 'Piauí'\n",
       "19. 'Rio de Janeiro'\n",
       "20. 'Rio Grande do Norte'\n",
       "21. 'Rio Grande do Sul'\n",
       "22. 'Rondônia'\n",
       "23. 'Roraima'\n",
       "24. 'Santa Catarina'\n",
       "25. 'São Paulo'\n",
       "26. 'Sergipe'\n",
       "27. 'Tocantins'\n",
       "\n",
       "\n"
      ],
      "text/plain": [
       " [1] \"Acre\"                \"Alagoas\"             \"Amazonas\"           \n",
       " [4] \"Bahia\"               \"Ceará\"               \"Distrito Federal\"   \n",
       " [7] \"Espírito Santo\"      \"Goiás\"               \"Maranhão\"           \n",
       "[10] \"Mato Grosso\"         \"Mato Grosso do Sul\"  \"Minas Gerais\"       \n",
       "[13] \"Não se aplica\"       \"Pará\"                \"Paraíba\"            \n",
       "[16] \"Paraná\"              \"Pernambuco\"          \"Piauí\"              \n",
       "[19] \"Rio de Janeiro\"      \"Rio Grande do Norte\" \"Rio Grande do Sul\"  \n",
       "[22] \"Rondônia\"            \"Roraima\"             \"Santa Catarina\"     \n",
       "[25] \"São Paulo\"           \"Sergipe\"             \"Tocantins\"          "
      ]
     },
     "metadata": {},
     "output_type": "display_data"
    },
    {
     "data": {
      "text/html": [
       "<style>\n",
       ".list-inline {list-style: none; margin:0; padding: 0}\n",
       ".list-inline>li {display: inline-block}\n",
       ".list-inline>li:not(:last-child)::after {content: \"\\00b7\"; padding: 0 .5ex}\n",
       "</style>\n",
       "<ol class=list-inline><li>'Anchieta'</li><li>'Andaraí'</li><li>'Anil'</li><li>'Bangu'</li><li>'Barra da Tijuca'</li><li>'Barra de Guaratiba'</li><li>'Benfica'</li><li>'Bento Ribeiro'</li><li>'Bonsucesso'</li><li>'Botafogo'</li><li>'Brás de Pina'</li><li>'Cachambi'</li><li>'Cacuia'</li><li>'Caju'</li><li>'Camorim'</li><li>'Campo Grande'</li><li>'Cascadura'</li><li>'Catete'</li><li>'Catumbi'</li><li>'Cavalcanti'</li><li>'Centro'</li><li>'Cidade de Deus'</li><li>'Cidade Nova'</li><li>'Cidade Universitária'</li><li>'Cocotá'</li><li>'Colégio'</li><li>'Complexo do Alemão'</li><li>'Copacabana'</li><li>'Cordovil'</li><li>'Cosmos'</li><li>'Curicica'</li><li>'Del Castilho'</li><li>'Engenho de Dentro'</li><li>'Engenho Novo'</li><li>'Estácio'</li><li>'Flamengo'</li><li>'Freguesia (Jacarepaguá)'</li><li>'Galeão'</li><li>'Gamboa'</li><li>'Gardênia Azul'</li><li>'Gávea'</li><li>'Glória'</li><li>'Grajaú'</li><li>'Guaratiba'</li><li>'Higienópolis'</li><li>'Humaitá'</li><li>'Inhaúma'</li><li>'Ipanema'</li><li>'Irajá'</li><li>'Jacaré'</li><li>'Jacarepaguá'</li><li>'Jacarezinho'</li><li>'Jardim América'</li><li>'Jardim Carioca'</li><li>'Jardim Guanabara'</li><li>'Jardim Sulacap'</li><li>'Lagoa'</li><li>'Lapa'</li><li>'Laranjeiras'</li><li>'Leblon'</li><li>'Leme'</li><li>'Lins de Vasconcelos'</li><li>'Madureira'</li><li>'Magalhães Bastos'</li><li>'Mangueira'</li><li>'Manguinhos'</li><li>'Maracanã'</li><li>'Maré'</li><li>'Marechal Hermes'</li><li>'Méier'</li><li>'Olaria'</li><li>'Paciência'</li><li>'Padre Miguel'</li><li>'Parada de Lucas'</li><li>'Pavuna'</li><li>'Penha'</li><li>'Penha Circular'</li><li>'Piedade'</li><li>'Pilares'</li><li>'Pitangueiras'</li><li>'Portuguesa'</li><li>'Praça da Bandeira'</li><li>'Praça Seca'</li><li>'Ramos'</li><li>'Realengo'</li><li>'Recreio dos Bandeirantes'</li><li>'Ribeira'</li><li>'Rio Comprido'</li><li>'Rocha'</li><li>'Rocha Miranda'</li><li>'Sampaio'</li><li>'Santa Cruz'</li><li>'Santa Teresa'</li><li>'Santíssimo'</li><li>'Santo Cristo'</li><li>'São Conrado'</li><li>'São Cristóvão'</li><li>'São Francisco Xavier'</li><li>'Saúde'</li><li>'Senador Camará'</li><li>'Sepetiba'</li><li>'Tanque'</li><li>'Taquara'</li><li>'Tijuca'</li><li>'Todos os Santos'</li><li>'Tomás Coelho'</li><li>'Turiaçú'</li><li>'Vicente de Carvalho'</li><li>'Vila da Penha'</li><li>'Vila Isabel'</li><li>'Vila Kennedy'</li><li>'Vila Kosmos'</li><li>'Vila Valqueire'</li></ol>\n"
      ],
      "text/latex": [
       "\\begin{enumerate*}\n",
       "\\item 'Anchieta'\n",
       "\\item 'Andaraí'\n",
       "\\item 'Anil'\n",
       "\\item 'Bangu'\n",
       "\\item 'Barra da Tijuca'\n",
       "\\item 'Barra de Guaratiba'\n",
       "\\item 'Benfica'\n",
       "\\item 'Bento Ribeiro'\n",
       "\\item 'Bonsucesso'\n",
       "\\item 'Botafogo'\n",
       "\\item 'Brás de Pina'\n",
       "\\item 'Cachambi'\n",
       "\\item 'Cacuia'\n",
       "\\item 'Caju'\n",
       "\\item 'Camorim'\n",
       "\\item 'Campo Grande'\n",
       "\\item 'Cascadura'\n",
       "\\item 'Catete'\n",
       "\\item 'Catumbi'\n",
       "\\item 'Cavalcanti'\n",
       "\\item 'Centro'\n",
       "\\item 'Cidade de Deus'\n",
       "\\item 'Cidade Nova'\n",
       "\\item 'Cidade Universitária'\n",
       "\\item 'Cocotá'\n",
       "\\item 'Colégio'\n",
       "\\item 'Complexo do Alemão'\n",
       "\\item 'Copacabana'\n",
       "\\item 'Cordovil'\n",
       "\\item 'Cosmos'\n",
       "\\item 'Curicica'\n",
       "\\item 'Del Castilho'\n",
       "\\item 'Engenho de Dentro'\n",
       "\\item 'Engenho Novo'\n",
       "\\item 'Estácio'\n",
       "\\item 'Flamengo'\n",
       "\\item 'Freguesia (Jacarepaguá)'\n",
       "\\item 'Galeão'\n",
       "\\item 'Gamboa'\n",
       "\\item 'Gardênia Azul'\n",
       "\\item 'Gávea'\n",
       "\\item 'Glória'\n",
       "\\item 'Grajaú'\n",
       "\\item 'Guaratiba'\n",
       "\\item 'Higienópolis'\n",
       "\\item 'Humaitá'\n",
       "\\item 'Inhaúma'\n",
       "\\item 'Ipanema'\n",
       "\\item 'Irajá'\n",
       "\\item 'Jacaré'\n",
       "\\item 'Jacarepaguá'\n",
       "\\item 'Jacarezinho'\n",
       "\\item 'Jardim América'\n",
       "\\item 'Jardim Carioca'\n",
       "\\item 'Jardim Guanabara'\n",
       "\\item 'Jardim Sulacap'\n",
       "\\item 'Lagoa'\n",
       "\\item 'Lapa'\n",
       "\\item 'Laranjeiras'\n",
       "\\item 'Leblon'\n",
       "\\item 'Leme'\n",
       "\\item 'Lins de Vasconcelos'\n",
       "\\item 'Madureira'\n",
       "\\item 'Magalhães Bastos'\n",
       "\\item 'Mangueira'\n",
       "\\item 'Manguinhos'\n",
       "\\item 'Maracanã'\n",
       "\\item 'Maré'\n",
       "\\item 'Marechal Hermes'\n",
       "\\item 'Méier'\n",
       "\\item 'Olaria'\n",
       "\\item 'Paciência'\n",
       "\\item 'Padre Miguel'\n",
       "\\item 'Parada de Lucas'\n",
       "\\item 'Pavuna'\n",
       "\\item 'Penha'\n",
       "\\item 'Penha Circular'\n",
       "\\item 'Piedade'\n",
       "\\item 'Pilares'\n",
       "\\item 'Pitangueiras'\n",
       "\\item 'Portuguesa'\n",
       "\\item 'Praça da Bandeira'\n",
       "\\item 'Praça Seca'\n",
       "\\item 'Ramos'\n",
       "\\item 'Realengo'\n",
       "\\item 'Recreio dos Bandeirantes'\n",
       "\\item 'Ribeira'\n",
       "\\item 'Rio Comprido'\n",
       "\\item 'Rocha'\n",
       "\\item 'Rocha Miranda'\n",
       "\\item 'Sampaio'\n",
       "\\item 'Santa Cruz'\n",
       "\\item 'Santa Teresa'\n",
       "\\item 'Santíssimo'\n",
       "\\item 'Santo Cristo'\n",
       "\\item 'São Conrado'\n",
       "\\item 'São Cristóvão'\n",
       "\\item 'São Francisco Xavier'\n",
       "\\item 'Saúde'\n",
       "\\item 'Senador Camará'\n",
       "\\item 'Sepetiba'\n",
       "\\item 'Tanque'\n",
       "\\item 'Taquara'\n",
       "\\item 'Tijuca'\n",
       "\\item 'Todos os Santos'\n",
       "\\item 'Tomás Coelho'\n",
       "\\item 'Turiaçú'\n",
       "\\item 'Vicente de Carvalho'\n",
       "\\item 'Vila da Penha'\n",
       "\\item 'Vila Isabel'\n",
       "\\item 'Vila Kennedy'\n",
       "\\item 'Vila Kosmos'\n",
       "\\item 'Vila Valqueire'\n",
       "\\end{enumerate*}\n"
      ],
      "text/markdown": [
       "1. 'Anchieta'\n",
       "2. 'Andaraí'\n",
       "3. 'Anil'\n",
       "4. 'Bangu'\n",
       "5. 'Barra da Tijuca'\n",
       "6. 'Barra de Guaratiba'\n",
       "7. 'Benfica'\n",
       "8. 'Bento Ribeiro'\n",
       "9. 'Bonsucesso'\n",
       "10. 'Botafogo'\n",
       "11. 'Brás de Pina'\n",
       "12. 'Cachambi'\n",
       "13. 'Cacuia'\n",
       "14. 'Caju'\n",
       "15. 'Camorim'\n",
       "16. 'Campo Grande'\n",
       "17. 'Cascadura'\n",
       "18. 'Catete'\n",
       "19. 'Catumbi'\n",
       "20. 'Cavalcanti'\n",
       "21. 'Centro'\n",
       "22. 'Cidade de Deus'\n",
       "23. 'Cidade Nova'\n",
       "24. 'Cidade Universitária'\n",
       "25. 'Cocotá'\n",
       "26. 'Colégio'\n",
       "27. 'Complexo do Alemão'\n",
       "28. 'Copacabana'\n",
       "29. 'Cordovil'\n",
       "30. 'Cosmos'\n",
       "31. 'Curicica'\n",
       "32. 'Del Castilho'\n",
       "33. 'Engenho de Dentro'\n",
       "34. 'Engenho Novo'\n",
       "35. 'Estácio'\n",
       "36. 'Flamengo'\n",
       "37. 'Freguesia (Jacarepaguá)'\n",
       "38. 'Galeão'\n",
       "39. 'Gamboa'\n",
       "40. 'Gardênia Azul'\n",
       "41. 'Gávea'\n",
       "42. 'Glória'\n",
       "43. 'Grajaú'\n",
       "44. 'Guaratiba'\n",
       "45. 'Higienópolis'\n",
       "46. 'Humaitá'\n",
       "47. 'Inhaúma'\n",
       "48. 'Ipanema'\n",
       "49. 'Irajá'\n",
       "50. 'Jacaré'\n",
       "51. 'Jacarepaguá'\n",
       "52. 'Jacarezinho'\n",
       "53. 'Jardim América'\n",
       "54. 'Jardim Carioca'\n",
       "55. 'Jardim Guanabara'\n",
       "56. 'Jardim Sulacap'\n",
       "57. 'Lagoa'\n",
       "58. 'Lapa'\n",
       "59. 'Laranjeiras'\n",
       "60. 'Leblon'\n",
       "61. 'Leme'\n",
       "62. 'Lins de Vasconcelos'\n",
       "63. 'Madureira'\n",
       "64. 'Magalhães Bastos'\n",
       "65. 'Mangueira'\n",
       "66. 'Manguinhos'\n",
       "67. 'Maracanã'\n",
       "68. 'Maré'\n",
       "69. 'Marechal Hermes'\n",
       "70. 'Méier'\n",
       "71. 'Olaria'\n",
       "72. 'Paciência'\n",
       "73. 'Padre Miguel'\n",
       "74. 'Parada de Lucas'\n",
       "75. 'Pavuna'\n",
       "76. 'Penha'\n",
       "77. 'Penha Circular'\n",
       "78. 'Piedade'\n",
       "79. 'Pilares'\n",
       "80. 'Pitangueiras'\n",
       "81. 'Portuguesa'\n",
       "82. 'Praça da Bandeira'\n",
       "83. 'Praça Seca'\n",
       "84. 'Ramos'\n",
       "85. 'Realengo'\n",
       "86. 'Recreio dos Bandeirantes'\n",
       "87. 'Ribeira'\n",
       "88. 'Rio Comprido'\n",
       "89. 'Rocha'\n",
       "90. 'Rocha Miranda'\n",
       "91. 'Sampaio'\n",
       "92. 'Santa Cruz'\n",
       "93. 'Santa Teresa'\n",
       "94. 'Santíssimo'\n",
       "95. 'Santo Cristo'\n",
       "96. 'São Conrado'\n",
       "97. 'São Cristóvão'\n",
       "98. 'São Francisco Xavier'\n",
       "99. 'Saúde'\n",
       "100. 'Senador Camará'\n",
       "101. 'Sepetiba'\n",
       "102. 'Tanque'\n",
       "103. 'Taquara'\n",
       "104. 'Tijuca'\n",
       "105. 'Todos os Santos'\n",
       "106. 'Tomás Coelho'\n",
       "107. 'Turiaçú'\n",
       "108. 'Vicente de Carvalho'\n",
       "109. 'Vila da Penha'\n",
       "110. 'Vila Isabel'\n",
       "111. 'Vila Kennedy'\n",
       "112. 'Vila Kosmos'\n",
       "113. 'Vila Valqueire'\n",
       "\n",
       "\n"
      ],
      "text/plain": [
       "  [1] \"Anchieta\"                 \"Andaraí\"                 \n",
       "  [3] \"Anil\"                     \"Bangu\"                   \n",
       "  [5] \"Barra da Tijuca\"          \"Barra de Guaratiba\"      \n",
       "  [7] \"Benfica\"                  \"Bento Ribeiro\"           \n",
       "  [9] \"Bonsucesso\"               \"Botafogo\"                \n",
       " [11] \"Brás de Pina\"             \"Cachambi\"                \n",
       " [13] \"Cacuia\"                   \"Caju\"                    \n",
       " [15] \"Camorim\"                  \"Campo Grande\"            \n",
       " [17] \"Cascadura\"                \"Catete\"                  \n",
       " [19] \"Catumbi\"                  \"Cavalcanti\"              \n",
       " [21] \"Centro\"                   \"Cidade de Deus\"          \n",
       " [23] \"Cidade Nova\"              \"Cidade Universitária\"    \n",
       " [25] \"Cocotá\"                   \"Colégio\"                 \n",
       " [27] \"Complexo do Alemão\"       \"Copacabana\"              \n",
       " [29] \"Cordovil\"                 \"Cosmos\"                  \n",
       " [31] \"Curicica\"                 \"Del Castilho\"            \n",
       " [33] \"Engenho de Dentro\"        \"Engenho Novo\"            \n",
       " [35] \"Estácio\"                  \"Flamengo\"                \n",
       " [37] \"Freguesia (Jacarepaguá)\"  \"Galeão\"                  \n",
       " [39] \"Gamboa\"                   \"Gardênia Azul\"           \n",
       " [41] \"Gávea\"                    \"Glória\"                  \n",
       " [43] \"Grajaú\"                   \"Guaratiba\"               \n",
       " [45] \"Higienópolis\"             \"Humaitá\"                 \n",
       " [47] \"Inhaúma\"                  \"Ipanema\"                 \n",
       " [49] \"Irajá\"                    \"Jacaré\"                  \n",
       " [51] \"Jacarepaguá\"              \"Jacarezinho\"             \n",
       " [53] \"Jardim América\"           \"Jardim Carioca\"          \n",
       " [55] \"Jardim Guanabara\"         \"Jardim Sulacap\"          \n",
       " [57] \"Lagoa\"                    \"Lapa\"                    \n",
       " [59] \"Laranjeiras\"              \"Leblon\"                  \n",
       " [61] \"Leme\"                     \"Lins de Vasconcelos\"     \n",
       " [63] \"Madureira\"                \"Magalhães Bastos\"        \n",
       " [65] \"Mangueira\"                \"Manguinhos\"              \n",
       " [67] \"Maracanã\"                 \"Maré\"                    \n",
       " [69] \"Marechal Hermes\"          \"Méier\"                   \n",
       " [71] \"Olaria\"                   \"Paciência\"               \n",
       " [73] \"Padre Miguel\"             \"Parada de Lucas\"         \n",
       " [75] \"Pavuna\"                   \"Penha\"                   \n",
       " [77] \"Penha Circular\"           \"Piedade\"                 \n",
       " [79] \"Pilares\"                  \"Pitangueiras\"            \n",
       " [81] \"Portuguesa\"               \"Praça da Bandeira\"       \n",
       " [83] \"Praça Seca\"               \"Ramos\"                   \n",
       " [85] \"Realengo\"                 \"Recreio dos Bandeirantes\"\n",
       " [87] \"Ribeira\"                  \"Rio Comprido\"            \n",
       " [89] \"Rocha\"                    \"Rocha Miranda\"           \n",
       " [91] \"Sampaio\"                  \"Santa Cruz\"              \n",
       " [93] \"Santa Teresa\"             \"Santíssimo\"              \n",
       " [95] \"Santo Cristo\"             \"São Conrado\"             \n",
       " [97] \"São Cristóvão\"            \"São Francisco Xavier\"    \n",
       " [99] \"Saúde\"                    \"Senador Camará\"          \n",
       "[101] \"Sepetiba\"                 \"Tanque\"                  \n",
       "[103] \"Taquara\"                  \"Tijuca\"                  \n",
       "[105] \"Todos os Santos\"          \"Tomás Coelho\"            \n",
       "[107] \"Turiaçú\"                  \"Vicente de Carvalho\"     \n",
       "[109] \"Vila da Penha\"            \"Vila Isabel\"             \n",
       "[111] \"Vila Kennedy\"             \"Vila Kosmos\"             \n",
       "[113] \"Vila Valqueire\"          "
      ]
     },
     "metadata": {},
     "output_type": "display_data"
    },
    {
     "data": {
      "text/html": [
       "<style>\n",
       ".list-inline {list-style: none; margin:0; padding: 0}\n",
       ".list-inline>li {display: inline-block}\n",
       ".list-inline>li:not(:last-child)::after {content: \"\\00b7\"; padding: 0 .5ex}\n",
       "</style>\n",
       "<ol class=list-inline><li>'12 a 17'</li><li>'18 a 30'</li><li>'31 a 49'</li><li>'50 a 59'</li><li>'60 a 69'</li><li>'70 a 79'</li><li>'80 a 89'</li><li>'Até 11'</li><li>'Não identificada'</li></ol>\n"
      ],
      "text/latex": [
       "\\begin{enumerate*}\n",
       "\\item '12 a 17'\n",
       "\\item '18 a 30'\n",
       "\\item '31 a 49'\n",
       "\\item '50 a 59'\n",
       "\\item '60 a 69'\n",
       "\\item '70 a 79'\n",
       "\\item '80 a 89'\n",
       "\\item 'Até 11'\n",
       "\\item 'Não identificada'\n",
       "\\end{enumerate*}\n"
      ],
      "text/markdown": [
       "1. '12 a 17'\n",
       "2. '18 a 30'\n",
       "3. '31 a 49'\n",
       "4. '50 a 59'\n",
       "5. '60 a 69'\n",
       "6. '70 a 79'\n",
       "7. '80 a 89'\n",
       "8. 'Até 11'\n",
       "9. 'Não identificada'\n",
       "\n",
       "\n"
      ],
      "text/plain": [
       "[1] \"12 a 17\"          \"18 a 30\"          \"31 a 49\"          \"50 a 59\"         \n",
       "[5] \"60 a 69\"          \"70 a 79\"          \"80 a 89\"          \"Até 11\"          \n",
       "[9] \"Não identificada\""
      ]
     },
     "metadata": {},
     "output_type": "display_data"
    },
    {
     "data": {
      "text/html": [
       "<style>\n",
       ".list-inline {list-style: none; margin:0; padding: 0}\n",
       ".list-inline>li {display: inline-block}\n",
       ".list-inline>li:not(:last-child)::after {content: \"\\00b7\"; padding: 0 .5ex}\n",
       "</style>\n",
       "<ol class=list-inline><li>'Adolescente'</li><li>'Adulto'</li><li>'Criança'</li><li>'Idoso'</li><li>'Sem informação'</li></ol>\n"
      ],
      "text/latex": [
       "\\begin{enumerate*}\n",
       "\\item 'Adolescente'\n",
       "\\item 'Adulto'\n",
       "\\item 'Criança'\n",
       "\\item 'Idoso'\n",
       "\\item 'Sem informação'\n",
       "\\end{enumerate*}\n"
      ],
      "text/markdown": [
       "1. 'Adolescente'\n",
       "2. 'Adulto'\n",
       "3. 'Criança'\n",
       "4. 'Idoso'\n",
       "5. 'Sem informação'\n",
       "\n",
       "\n"
      ],
      "text/plain": [
       "[1] \"Adolescente\"    \"Adulto\"         \"Criança\"        \"Idoso\"         \n",
       "[5] \"Sem informação\""
      ]
     },
     "metadata": {},
     "output_type": "display_data"
    },
    {
     "data": {
      "text/html": [
       "<style>\n",
       ".list-inline {list-style: none; margin:0; padding: 0}\n",
       ".list-inline>li {display: inline-block}\n",
       ".list-inline>li:not(:last-child)::after {content: \"\\00b7\"; padding: 0 .5ex}\n",
       "</style>\n",
       "<ol class=list-inline><li>'Feminino'</li><li>'Masculino'</li></ol>\n"
      ],
      "text/latex": [
       "\\begin{enumerate*}\n",
       "\\item 'Feminino'\n",
       "\\item 'Masculino'\n",
       "\\end{enumerate*}\n"
      ],
      "text/markdown": [
       "1. 'Feminino'\n",
       "2. 'Masculino'\n",
       "\n",
       "\n"
      ],
      "text/plain": [
       "[1] \"Feminino\"  \"Masculino\""
      ]
     },
     "metadata": {},
     "output_type": "display_data"
    },
    {
     "data": {
      "text/html": [
       "<style>\n",
       ".list-inline {list-style: none; margin:0; padding: 0}\n",
       ".list-inline>li {display: inline-block}\n",
       ".list-inline>li:not(:last-child)::after {content: \"\\00b7\"; padding: 0 .5ex}\n",
       "</style>\n",
       "<ol class=list-inline><li>'Homem Cis'</li><li>'Homem Trans'</li><li>'Mulher Cis'</li><li>'Mulher Trans'</li><li>'Outro'</li><li>'Travesti'</li></ol>\n"
      ],
      "text/latex": [
       "\\begin{enumerate*}\n",
       "\\item 'Homem Cis'\n",
       "\\item 'Homem Trans'\n",
       "\\item 'Mulher Cis'\n",
       "\\item 'Mulher Trans'\n",
       "\\item 'Outro'\n",
       "\\item 'Travesti'\n",
       "\\end{enumerate*}\n"
      ],
      "text/markdown": [
       "1. 'Homem Cis'\n",
       "2. 'Homem Trans'\n",
       "3. 'Mulher Cis'\n",
       "4. 'Mulher Trans'\n",
       "5. 'Outro'\n",
       "6. 'Travesti'\n",
       "\n",
       "\n"
      ],
      "text/plain": [
       "[1] \"Homem Cis\"    \"Homem Trans\"  \"Mulher Cis\"   \"Mulher Trans\" \"Outro\"       \n",
       "[6] \"Travesti\"    "
      ]
     },
     "metadata": {},
     "output_type": "display_data"
    },
    {
     "data": {
      "text/html": [
       "<style>\n",
       ".list-inline {list-style: none; margin:0; padding: 0}\n",
       ".list-inline>li {display: inline-block}\n",
       ".list-inline>li:not(:last-child)::after {content: \"\\00b7\"; padding: 0 .5ex}\n",
       "</style>\n",
       "<ol class=list-inline><li>'Amarela'</li><li>'Branca'</li><li>'Indígena'</li><li>'Não identificada'</li><li>'Parda'</li><li>'Preta'</li></ol>\n"
      ],
      "text/latex": [
       "\\begin{enumerate*}\n",
       "\\item 'Amarela'\n",
       "\\item 'Branca'\n",
       "\\item 'Indígena'\n",
       "\\item 'Não identificada'\n",
       "\\item 'Parda'\n",
       "\\item 'Preta'\n",
       "\\end{enumerate*}\n"
      ],
      "text/markdown": [
       "1. 'Amarela'\n",
       "2. 'Branca'\n",
       "3. 'Indígena'\n",
       "4. 'Não identificada'\n",
       "5. 'Parda'\n",
       "6. 'Preta'\n",
       "\n",
       "\n"
      ],
      "text/plain": [
       "[1] \"Amarela\"          \"Branca\"           \"Indígena\"         \"Não identificada\"\n",
       "[5] \"Parda\"            \"Preta\"           "
      ]
     },
     "metadata": {},
     "output_type": "display_data"
    },
    {
     "data": {
      "text/html": [
       "<style>\n",
       ".list-inline {list-style: none; margin:0; padding: 0}\n",
       ".list-inline>li {display: inline-block}\n",
       ".list-inline>li:not(:last-child)::after {content: \"\\00b7\"; padding: 0 .5ex}\n",
       "</style>\n",
       "<ol class=list-inline><li>'Não'</li><li>'Sim'</li></ol>\n"
      ],
      "text/latex": [
       "\\begin{enumerate*}\n",
       "\\item 'Não'\n",
       "\\item 'Sim'\n",
       "\\end{enumerate*}\n"
      ],
      "text/markdown": [
       "1. 'Não'\n",
       "2. 'Sim'\n",
       "\n",
       "\n"
      ],
      "text/plain": [
       "[1] \"Não\" \"Sim\""
      ]
     },
     "metadata": {},
     "output_type": "display_data"
    },
    {
     "data": {
      "text/html": [
       "<style>\n",
       ".list-inline {list-style: none; margin:0; padding: 0}\n",
       ".list-inline>li {display: inline-block}\n",
       ".list-inline>li:not(:last-child)::after {content: \"\\00b7\"; padding: 0 .5ex}\n",
       "</style>\n",
       "<ol class=list-inline><li>'Alcoolismo e/ou uso de drogas'</li><li>'Andarilho / Nômade / Viajante'</li><li>'Conflitos familiares (inclui separação)'</li><li>'Demissão do trabalho/desemprego ou perda da renda'</li><li>'Desentendimentos na comunidade ou vizinhança'</li><li>'Família passou a viver na rua'</li><li>'Migrantes ou refugiado'</li><li>'Não se aplica'</li><li>'Nasci na rua e permaneço nela'</li><li>'Outros'</li><li>'Para ficar perto do trabalho/ sem passagem para voltar para casa (mais de uma vez)'</li><li>'Perda de casa por causas naturais/acidentes (ex: alagamentos, deslizamentos e incêndios)'</li><li>'Saída do sistema prisional (Casa de detenção/cadeia/penitenciária/ DEGASE)'</li><li>'Sofria ameaças, abusos ou violência'</li></ol>\n"
      ],
      "text/latex": [
       "\\begin{enumerate*}\n",
       "\\item 'Alcoolismo e/ou uso de drogas'\n",
       "\\item 'Andarilho / Nômade / Viajante'\n",
       "\\item 'Conflitos familiares (inclui separação)'\n",
       "\\item 'Demissão do trabalho/desemprego ou perda da renda'\n",
       "\\item 'Desentendimentos na comunidade ou vizinhança'\n",
       "\\item 'Família passou a viver na rua'\n",
       "\\item 'Migrantes ou refugiado'\n",
       "\\item 'Não se aplica'\n",
       "\\item 'Nasci na rua e permaneço nela'\n",
       "\\item 'Outros'\n",
       "\\item 'Para ficar perto do trabalho/ sem passagem para voltar para casa (mais de uma vez)'\n",
       "\\item 'Perda de casa por causas naturais/acidentes (ex: alagamentos, deslizamentos e incêndios)'\n",
       "\\item 'Saída do sistema prisional (Casa de detenção/cadeia/penitenciária/ DEGASE)'\n",
       "\\item 'Sofria ameaças, abusos ou violência'\n",
       "\\end{enumerate*}\n"
      ],
      "text/markdown": [
       "1. 'Alcoolismo e/ou uso de drogas'\n",
       "2. 'Andarilho / Nômade / Viajante'\n",
       "3. 'Conflitos familiares (inclui separação)'\n",
       "4. 'Demissão do trabalho/desemprego ou perda da renda'\n",
       "5. 'Desentendimentos na comunidade ou vizinhança'\n",
       "6. 'Família passou a viver na rua'\n",
       "7. 'Migrantes ou refugiado'\n",
       "8. 'Não se aplica'\n",
       "9. 'Nasci na rua e permaneço nela'\n",
       "10. 'Outros'\n",
       "11. 'Para ficar perto do trabalho/ sem passagem para voltar para casa (mais de uma vez)'\n",
       "12. 'Perda de casa por causas naturais/acidentes (ex: alagamentos, deslizamentos e incêndios)'\n",
       "13. 'Saída do sistema prisional (Casa de detenção/cadeia/penitenciária/ DEGASE)'\n",
       "14. 'Sofria ameaças, abusos ou violência'\n",
       "\n",
       "\n"
      ],
      "text/plain": [
       " [1] \"Alcoolismo e/ou uso de drogas\"                                                           \n",
       " [2] \"Andarilho / Nômade / Viajante\"                                                           \n",
       " [3] \"Conflitos familiares (inclui separação)\"                                                 \n",
       " [4] \"Demissão do trabalho/desemprego ou perda da renda\"                                       \n",
       " [5] \"Desentendimentos na comunidade ou vizinhança\"                                            \n",
       " [6] \"Família passou a viver na rua\"                                                           \n",
       " [7] \"Migrantes ou refugiado\"                                                                  \n",
       " [8] \"Não se aplica\"                                                                           \n",
       " [9] \"Nasci na rua e permaneço nela\"                                                           \n",
       "[10] \"Outros\"                                                                                  \n",
       "[11] \"Para ficar perto do trabalho/ sem passagem para voltar para casa (mais de uma vez)\"      \n",
       "[12] \"Perda de casa por causas naturais/acidentes (ex: alagamentos, deslizamentos e incêndios)\"\n",
       "[13] \"Saída do sistema prisional (Casa de detenção/cadeia/penitenciária/ DEGASE)\"              \n",
       "[14] \"Sofria ameaças, abusos ou violência\"                                                     "
      ]
     },
     "metadata": {},
     "output_type": "display_data"
    },
    {
     "data": {
      "text/html": [
       "<style>\n",
       ".list-inline {list-style: none; margin:0; padding: 0}\n",
       ".list-inline>li {display: inline-block}\n",
       ".list-inline>li:not(:last-child)::after {content: \"\\00b7\"; padding: 0 .5ex}\n",
       "</style>\n",
       "<ol class=list-inline><li>'Mais de 1 ano até 5 anos'</li><li>'Mais de 1 mês até 6 meses'</li><li>'Mais de 10 anos até 15 anos'</li><li>'Mais de 15 anos'</li><li>'Mais de 5 ano até 10 anos'</li><li>'Mais de 6 meses até 1 ano'</li><li>'Menos de 1 mês'</li><li>'Não se aplica'</li></ol>\n"
      ],
      "text/latex": [
       "\\begin{enumerate*}\n",
       "\\item 'Mais de 1 ano até 5 anos'\n",
       "\\item 'Mais de 1 mês até 6 meses'\n",
       "\\item 'Mais de 10 anos até 15 anos'\n",
       "\\item 'Mais de 15 anos'\n",
       "\\item 'Mais de 5 ano até 10 anos'\n",
       "\\item 'Mais de 6 meses até 1 ano'\n",
       "\\item 'Menos de 1 mês'\n",
       "\\item 'Não se aplica'\n",
       "\\end{enumerate*}\n"
      ],
      "text/markdown": [
       "1. 'Mais de 1 ano até 5 anos'\n",
       "2. 'Mais de 1 mês até 6 meses'\n",
       "3. 'Mais de 10 anos até 15 anos'\n",
       "4. 'Mais de 15 anos'\n",
       "5. 'Mais de 5 ano até 10 anos'\n",
       "6. 'Mais de 6 meses até 1 ano'\n",
       "7. 'Menos de 1 mês'\n",
       "8. 'Não se aplica'\n",
       "\n",
       "\n"
      ],
      "text/plain": [
       "[1] \"Mais de 1 ano até 5 anos\"    \"Mais de 1 mês até 6 meses\"  \n",
       "[3] \"Mais de 10 anos até 15 anos\" \"Mais de 15 anos\"            \n",
       "[5] \"Mais de 5 ano até 10 anos\"   \"Mais de 6 meses até 1 ano\"  \n",
       "[7] \"Menos de 1 mês\"              \"Não se aplica\"              "
      ]
     },
     "metadata": {},
     "output_type": "display_data"
    },
    {
     "data": {
      "text/html": [
       "<style>\n",
       ".list-inline {list-style: none; margin:0; padding: 0}\n",
       ".list-inline>li {display: inline-block}\n",
       ".list-inline>li:not(:last-child)::after {content: \"\\00b7\"; padding: 0 .5ex}\n",
       "</style>\n",
       "<ol class=list-inline><li>'Não'</li><li>'Sim, de carteira assinada'</li><li>'Sim, sem carteira assinada'</li></ol>\n"
      ],
      "text/latex": [
       "\\begin{enumerate*}\n",
       "\\item 'Não'\n",
       "\\item 'Sim, de carteira assinada'\n",
       "\\item 'Sim, sem carteira assinada'\n",
       "\\end{enumerate*}\n"
      ],
      "text/markdown": [
       "1. 'Não'\n",
       "2. 'Sim, de carteira assinada'\n",
       "3. 'Sim, sem carteira assinada'\n",
       "\n",
       "\n"
      ],
      "text/plain": [
       "[1] \"Não\"                        \"Sim, de carteira assinada\" \n",
       "[3] \"Sim, sem carteira assinada\""
      ]
     },
     "metadata": {},
     "output_type": "display_data"
    },
    {
     "data": {
      "text/html": [
       "<style>\n",
       ".list-inline {list-style: none; margin:0; padding: 0}\n",
       ".list-inline>li {display: inline-block}\n",
       ".list-inline>li:not(:last-child)::after {content: \"\\00b7\"; padding: 0 .5ex}\n",
       "</style>\n",
       "<ol class=list-inline><li>'Carregador/Estivador'</li><li>'Catar materiais recicláveis ou lixo'</li><li>'Construção Civil'</li><li>'Entregador de aplicativo'</li><li>'Guardar, lavar e/ou cuidar de carros (flanelinha)'</li><li>'Não se aplica'</li><li>'Outra'</li><li>'Pedir dinheiro nas ruas'</li><li>'Profissional do sexo'</li><li>'Serviços gerais'</li><li>'Vender produtos como camelô ou ambulante'</li></ol>\n"
      ],
      "text/latex": [
       "\\begin{enumerate*}\n",
       "\\item 'Carregador/Estivador'\n",
       "\\item 'Catar materiais recicláveis ou lixo'\n",
       "\\item 'Construção Civil'\n",
       "\\item 'Entregador de aplicativo'\n",
       "\\item 'Guardar, lavar e/ou cuidar de carros (flanelinha)'\n",
       "\\item 'Não se aplica'\n",
       "\\item 'Outra'\n",
       "\\item 'Pedir dinheiro nas ruas'\n",
       "\\item 'Profissional do sexo'\n",
       "\\item 'Serviços gerais'\n",
       "\\item 'Vender produtos como camelô ou ambulante'\n",
       "\\end{enumerate*}\n"
      ],
      "text/markdown": [
       "1. 'Carregador/Estivador'\n",
       "2. 'Catar materiais recicláveis ou lixo'\n",
       "3. 'Construção Civil'\n",
       "4. 'Entregador de aplicativo'\n",
       "5. 'Guardar, lavar e/ou cuidar de carros (flanelinha)'\n",
       "6. 'Não se aplica'\n",
       "7. 'Outra'\n",
       "8. 'Pedir dinheiro nas ruas'\n",
       "9. 'Profissional do sexo'\n",
       "10. 'Serviços gerais'\n",
       "11. 'Vender produtos como camelô ou ambulante'\n",
       "\n",
       "\n"
      ],
      "text/plain": [
       " [1] \"Carregador/Estivador\"                             \n",
       " [2] \"Catar materiais recicláveis ou lixo\"              \n",
       " [3] \"Construção Civil\"                                 \n",
       " [4] \"Entregador de aplicativo\"                         \n",
       " [5] \"Guardar, lavar e/ou cuidar de carros (flanelinha)\"\n",
       " [6] \"Não se aplica\"                                    \n",
       " [7] \"Outra\"                                            \n",
       " [8] \"Pedir dinheiro nas ruas\"                          \n",
       " [9] \"Profissional do sexo\"                             \n",
       "[10] \"Serviços gerais\"                                  \n",
       "[11] \"Vender produtos como camelô ou ambulante\"         "
      ]
     },
     "metadata": {},
     "output_type": "display_data"
    },
    {
     "data": {
      "text/html": [
       "'Sim'"
      ],
      "text/latex": [
       "'Sim'"
      ],
      "text/markdown": [
       "'Sim'"
      ],
      "text/plain": [
       "[1] \"Sim\""
      ]
     },
     "metadata": {},
     "output_type": "display_data"
    },
    {
     "data": {
      "text/html": [
       "<style>\n",
       ".list-inline {list-style: none; margin:0; padding: 0}\n",
       ".list-inline>li {display: inline-block}\n",
       ".list-inline>li:not(:last-child)::after {content: \"\\00b7\"; padding: 0 .5ex}\n",
       "</style>\n",
       "<ol class=list-inline><li>'Não, não sei ler e escrever um bilhete simples'</li><li>'Sim'</li></ol>\n"
      ],
      "text/latex": [
       "\\begin{enumerate*}\n",
       "\\item 'Não, não sei ler e escrever um bilhete simples'\n",
       "\\item 'Sim'\n",
       "\\end{enumerate*}\n"
      ],
      "text/markdown": [
       "1. 'Não, não sei ler e escrever um bilhete simples'\n",
       "2. 'Sim'\n",
       "\n",
       "\n"
      ],
      "text/plain": [
       "[1] \"Não, não sei ler e escrever um bilhete simples\"\n",
       "[2] \"Sim\"                                           "
      ]
     },
     "metadata": {},
     "output_type": "display_data"
    },
    {
     "data": {
      "text/html": [
       "<style>\n",
       ".list-inline {list-style: none; margin:0; padding: 0}\n",
       ".list-inline>li {display: inline-block}\n",
       ".list-inline>li:not(:last-child)::after {content: \"\\00b7\"; padding: 0 .5ex}\n",
       "</style>\n",
       "<ol class=list-inline><li>'Fundamental completo'</li><li>'Fundamental incompleto'</li><li>'Infantil'</li><li>'Médio completo'</li><li>'Médio incompleto'</li><li>'Não se aplica'</li><li>'Superior completo'</li><li>'Superior incompleto'</li></ol>\n"
      ],
      "text/latex": [
       "\\begin{enumerate*}\n",
       "\\item 'Fundamental completo'\n",
       "\\item 'Fundamental incompleto'\n",
       "\\item 'Infantil'\n",
       "\\item 'Médio completo'\n",
       "\\item 'Médio incompleto'\n",
       "\\item 'Não se aplica'\n",
       "\\item 'Superior completo'\n",
       "\\item 'Superior incompleto'\n",
       "\\end{enumerate*}\n"
      ],
      "text/markdown": [
       "1. 'Fundamental completo'\n",
       "2. 'Fundamental incompleto'\n",
       "3. 'Infantil'\n",
       "4. 'Médio completo'\n",
       "5. 'Médio incompleto'\n",
       "6. 'Não se aplica'\n",
       "7. 'Superior completo'\n",
       "8. 'Superior incompleto'\n",
       "\n",
       "\n"
      ],
      "text/plain": [
       "[1] \"Fundamental completo\"   \"Fundamental incompleto\" \"Infantil\"              \n",
       "[4] \"Médio completo\"         \"Médio incompleto\"       \"Não se aplica\"         \n",
       "[7] \"Superior completo\"      \"Superior incompleto\"   "
      ]
     },
     "metadata": {},
     "output_type": "display_data"
    },
    {
     "data": {
      "text/html": [
       "<style>\n",
       ".list-inline {list-style: none; margin:0; padding: 0}\n",
       ".list-inline>li {display: inline-block}\n",
       ".list-inline>li:not(:last-child)::after {content: \"\\00b7\"; padding: 0 .5ex}\n",
       "</style>\n",
       "<ol class=list-inline><li>'Não'</li><li>'Sim'</li></ol>\n"
      ],
      "text/latex": [
       "\\begin{enumerate*}\n",
       "\\item 'Não'\n",
       "\\item 'Sim'\n",
       "\\end{enumerate*}\n"
      ],
      "text/markdown": [
       "1. 'Não'\n",
       "2. 'Sim'\n",
       "\n",
       "\n"
      ],
      "text/plain": [
       "[1] \"Não\" \"Sim\""
      ]
     },
     "metadata": {},
     "output_type": "display_data"
    },
    {
     "data": {
      "text/html": [
       "<style>\n",
       ".list-inline {list-style: none; margin:0; padding: 0}\n",
       ".list-inline>li {display: inline-block}\n",
       ".list-inline>li:not(:last-child)::after {content: \"\\00b7\"; padding: 0 .5ex}\n",
       "</style>\n",
       "<ol class=list-inline><li>'Não'</li><li>'Sim'</li></ol>\n"
      ],
      "text/latex": [
       "\\begin{enumerate*}\n",
       "\\item 'Não'\n",
       "\\item 'Sim'\n",
       "\\end{enumerate*}\n"
      ],
      "text/markdown": [
       "1. 'Não'\n",
       "2. 'Sim'\n",
       "\n",
       "\n"
      ],
      "text/plain": [
       "[1] \"Não\" \"Sim\""
      ]
     },
     "metadata": {},
     "output_type": "display_data"
    },
    {
     "data": {
      "text/html": [
       "<style>\n",
       ".list-inline {list-style: none; margin:0; padding: 0}\n",
       ".list-inline>li {display: inline-block}\n",
       ".list-inline>li:not(:last-child)::after {content: \"\\00b7\"; padding: 0 .5ex}\n",
       "</style>\n",
       "<ol class=list-inline><li>'Não'</li><li>'Sim'</li></ol>\n"
      ],
      "text/latex": [
       "\\begin{enumerate*}\n",
       "\\item 'Não'\n",
       "\\item 'Sim'\n",
       "\\end{enumerate*}\n"
      ],
      "text/markdown": [
       "1. 'Não'\n",
       "2. 'Sim'\n",
       "\n",
       "\n"
      ],
      "text/plain": [
       "[1] \"Não\" \"Sim\""
      ]
     },
     "metadata": {},
     "output_type": "display_data"
    },
    {
     "data": {
      "text/html": [
       "<style>\n",
       ".list-inline {list-style: none; margin:0; padding: 0}\n",
       ".list-inline>li {display: inline-block}\n",
       ".list-inline>li:not(:last-child)::after {content: \"\\00b7\"; padding: 0 .5ex}\n",
       "</style>\n",
       "<ol class=list-inline><li>'Não'</li><li>'Sim'</li></ol>\n"
      ],
      "text/latex": [
       "\\begin{enumerate*}\n",
       "\\item 'Não'\n",
       "\\item 'Sim'\n",
       "\\end{enumerate*}\n"
      ],
      "text/markdown": [
       "1. 'Não'\n",
       "2. 'Sim'\n",
       "\n",
       "\n"
      ],
      "text/plain": [
       "[1] \"Não\" \"Sim\""
      ]
     },
     "metadata": {},
     "output_type": "display_data"
    },
    {
     "data": {
      "text/html": [
       "<style>\n",
       ".list-inline {list-style: none; margin:0; padding: 0}\n",
       ".list-inline>li {display: inline-block}\n",
       ".list-inline>li:not(:last-child)::after {content: \"\\00b7\"; padding: 0 .5ex}\n",
       "</style>\n",
       "<ol class=list-inline><li>'Não'</li><li>'Sim'</li></ol>\n"
      ],
      "text/latex": [
       "\\begin{enumerate*}\n",
       "\\item 'Não'\n",
       "\\item 'Sim'\n",
       "\\end{enumerate*}\n"
      ],
      "text/markdown": [
       "1. 'Não'\n",
       "2. 'Sim'\n",
       "\n",
       "\n"
      ],
      "text/plain": [
       "[1] \"Não\" \"Sim\""
      ]
     },
     "metadata": {},
     "output_type": "display_data"
    },
    {
     "data": {
      "text/html": [
       "<style>\n",
       ".list-inline {list-style: none; margin:0; padding: 0}\n",
       ".list-inline>li {display: inline-block}\n",
       ".list-inline>li:not(:last-child)::after {content: \"\\00b7\"; padding: 0 .5ex}\n",
       "</style>\n",
       "<ol class=list-inline><li>'Não'</li><li>'Sim'</li></ol>\n"
      ],
      "text/latex": [
       "\\begin{enumerate*}\n",
       "\\item 'Não'\n",
       "\\item 'Sim'\n",
       "\\end{enumerate*}\n"
      ],
      "text/markdown": [
       "1. 'Não'\n",
       "2. 'Sim'\n",
       "\n",
       "\n"
      ],
      "text/plain": [
       "[1] \"Não\" \"Sim\""
      ]
     },
     "metadata": {},
     "output_type": "display_data"
    },
    {
     "data": {
      "text/html": [
       "<style>\n",
       ".list-inline {list-style: none; margin:0; padding: 0}\n",
       ".list-inline>li {display: inline-block}\n",
       ".list-inline>li:not(:last-child)::after {content: \"\\00b7\"; padding: 0 .5ex}\n",
       "</style>\n",
       "<ol class=list-inline><li>'Não quero sair da rua'</li><li>'Quero sair da rua'</li></ol>\n"
      ],
      "text/latex": [
       "\\begin{enumerate*}\n",
       "\\item 'Não quero sair da rua'\n",
       "\\item 'Quero sair da rua'\n",
       "\\end{enumerate*}\n"
      ],
      "text/markdown": [
       "1. 'Não quero sair da rua'\n",
       "2. 'Quero sair da rua'\n",
       "\n",
       "\n"
      ],
      "text/plain": [
       "[1] \"Não quero sair da rua\" \"Quero sair da rua\"    "
      ]
     },
     "metadata": {},
     "output_type": "display_data"
    },
    {
     "name": "stdout",
     "output_type": "stream",
     "text": [
      "tibble [3,548 × 23] (S3: tbl_df/tbl/data.frame)\n",
      " $ RuaAcolhimento               : Factor w/ 2 levels \"Acolhidos\",\"Rua\": 2 2 2 2 2 2 2 2 2 2 ...\n",
      " $ Estado                       : Factor w/ 27 levels \"Acre\",\"Alagoas\",..: 19 19 19 19 4 12 19 4 5 19 ...\n",
      " $ Bairro                       : Factor w/ 113 levels \"Anchieta\",\"Andaraí\",..: 16 16 16 16 16 86 86 86 86 86 ...\n",
      " $ Faixa_etaria                 : Factor w/ 9 levels \"12 a 17\",\"18 a 30\",..: 3 3 4 3 3 3 4 3 3 3 ...\n",
      " $ Classificacao_idade          : Factor w/ 5 levels \"Adolescente\",..: 2 2 2 2 2 2 2 2 2 2 ...\n",
      " $ Sexo                         : Factor w/ 2 levels \"Feminino\",\"Masculino\": 2 2 1 2 2 2 2 1 2 2 ...\n",
      " $ Genero                       : Factor w/ 6 levels \"Homem Cis\",\"Homem Trans\",..: 1 1 3 1 1 1 1 3 1 1 ...\n",
      " $ Cor_raca                     : Factor w/ 6 levels \"Amarela\",\"Branca\",..: 6 6 2 6 5 5 2 6 5 6 ...\n",
      " $ Contato_familia              : Factor w/ 2 levels \"Não\",\"Sim\": 2 2 1 2 1 1 1 2 2 1 ...\n",
      " $ Motivo_dormir_rua            : Factor w/ 14 levels \"Alcoolismo e/ou uso de drogas\",..: 5 12 4 1 3 4 3 4 11 3 ...\n",
      " $ Tempo_rua_RJ                 : Factor w/ 8 levels \"Mais de 1 ano até 5 anos\",..: 2 5 4 1 4 6 2 2 2 1 ...\n",
      " $ Atividade_remunerada         : Factor w/ 3 levels \"Não\",\"Sim, de carteira assinada\",..: 3 1 1 3 3 3 3 3 3 3 ...\n",
      " $ Atividade_realizada          : Factor w/ 11 levels \"Carregador/Estivador\",..: 2 6 6 5 5 7 7 11 3 2 ...\n",
      " $ Recebe_outras_fontes_de_renda: Factor w/ 1 level \"Sim\": 1 1 1 1 1 1 1 1 1 1 ...\n",
      " $ Sabe_ler_escrever            : Factor w/ 2 levels \"Não, não sei ler e escrever um bilhete simples\",..: 2 2 2 2 2 2 2 2 2 2 ...\n",
      " $ Escolaridade_corrigida       : Factor w/ 8 levels \"Fundamental completo\",..: 2 2 2 4 2 2 8 5 2 2 ...\n",
      " $ Tabaco                       : Factor w/ 2 levels \"Não\",\"Sim\": 1 1 1 2 1 2 2 2 2 2 ...\n",
      " $ Alcool                       : Factor w/ 2 levels \"Não\",\"Sim\": 1 1 1 2 1 1 1 2 2 2 ...\n",
      " $ Maconha_Haxixe               : Factor w/ 2 levels \"Não\",\"Sim\": 1 1 1 2 2 1 1 2 1 2 ...\n",
      " $ Crack_Similares              : Factor w/ 2 levels \"Não\",\"Sim\": 1 1 1 2 2 1 1 1 1 1 ...\n",
      " $ Cocaina                      : Factor w/ 2 levels \"Não\",\"Sim\": 1 1 1 2 1 1 1 1 1 1 ...\n",
      " $ Inalantes_Cola_Solvente_Tiner: Factor w/ 2 levels \"Não\",\"Sim\": 1 1 1 2 1 1 1 1 1 1 ...\n",
      " $ Necessidade_sair_situacao    : Factor w/ 2 levels \"Não quero sair da rua\",..: 2 2 1 2 2 2 2 2 1 1 ...\n"
     ]
    }
   ],
   "source": [
    "levels(Base$RuaAcolhimento)                   ## Categoria de referência é Acolhidos\n",
    "levels(Base$Estado)                           ## Categoria de referência é Acre\n",
    "levels(Base$Bairro)                           ## Categoria de referência é Anchieta\n",
    "levels(Base$Faixa_etaria)                     ## Categoria de referência é 12 a 17\n",
    "levels(Base$Classificacao_idade)              ## Categoria de referência é Adolescente\n",
    "levels(Base$Sexo)                             ## Categoria de referência é Feminino\n",
    "levels(Base$Genero)                           ## Categoria de referência é Homem Cis\n",
    "levels(Base$Cor_raca)                         ## Categoria de referência é Amarela\n",
    "levels(Base$Contato_familia)                  ## Categoria de referência é Acre\n",
    "levels(Base$Motivo_dormir_rua)                ## Categoria de referência é Alcoolismo e/ou uso de drogas\n",
    "levels(Base$Tempo_rua_RJ)                     ## Categoria de referência é Mais de 1 ano até 5 anos\n",
    "levels(Base$Atividade_remunerada)             ## Categoria de referência é Não\n",
    "levels(Base$Atividade_realizada)              ## Categoria de referência é Carregador/Estivador\n",
    "levels(Base$Recebe_outras_fontes_de_renda)    ## Categoria de referência é Sim\n",
    "levels(Base$Sabe_ler_escrever)                ## Categoria de referência é Não, não sei ler e escrever um bilhete simples\n",
    "levels(Base$Escolaridade_corrigida)           ## Categoria de referência é Fundamental completo\n",
    "levels(Base$Tabaco)                           ## Categoria de referência é Não\n",
    "levels(Base$Alcool)                           ## Categoria de referência é Não\n",
    "levels(Base$Maconha_Haxixe)                   ## Categoria de referência é Não\n",
    "levels(Base$Crack_Similares)                  ## Categoria de referência é Não\n",
    "levels(Base$Cocaina)                          ## Categoria de referência é Não\n",
    "levels(Base$Inalantes_Cola_Solvente_Tiner)    ## Categoria de referência é Não\n",
    "levels(Base$Necessidade_sair_situacao)        ## Categoria de referência é Não quero sair da rua   ## Lembrar de trocar para a categoria de referência ser \"quero sair da rua\" para avaliarmos as variáveis que explicam melhor isso.\n",
    "\n",
    "str(Base)"
   ]
  },
  {
   "cell_type": "markdown",
   "id": "114c8ed0-afe4-4cdb-93ed-b3da4b5a9d5f",
   "metadata": {},
   "source": [
    "_Agora com a base pronta, separei a base sendo __70%__ para treino e __30%__ para teste._"
   ]
  },
  {
   "cell_type": "code",
   "execution_count": 24,
   "id": "6da225aa-1e9d-470a-b7d2-3b6e330dadc4",
   "metadata": {},
   "outputs": [
    {
     "ename": "ERROR",
     "evalue": "Error in sample.split(Base$Necessidade_sair_situacao, SplitRatio = 0.7): could not find function \"sample.split\"\n",
     "execution_count": 24,
     "output_type": "error",
     "traceback": [
      "Error in sample.split(Base$Necessidade_sair_situacao, SplitRatio = 0.7): could not find function \"sample.split\"\nTraceback:\n"
     ]
    }
   ],
   "source": [
    "set.seed(101)\n",
    "Amostra <- sample.split(Base$Necessidade_sair_situacao, SplitRatio = 0.7)\n",
    "Treino = subset(Base,Amostra == TRUE)\n",
    "Teste = subset(Base,Amostra == FALSE)"
   ]
  },
  {
   "cell_type": "markdown",
   "id": "65203011-7662-4d97-8938-76f3de3bfa48",
   "metadata": {},
   "source": [
    "_Agora criei a base \"Modelo\" criando a regressão logística considerando todas as variáveis menos \"Recebe_outras_fontes_de_renda\" por possuir apenas 1 categoria._"
   ]
  },
  {
   "cell_type": "code",
   "execution_count": null,
   "id": "0cbb99c1-f64e-4f53-a377-7eb4dd179cf7",
   "metadata": {},
   "outputs": [],
   "source": [
    "Modelo = glm(Treino$Necessidade_sair_situacao ~ RuaAcolhimento +  Estado + Bairro + Faixa_etaria + Classificacao_idade + Sexo + Cor_raca + Contato_familia \n",
    "             + Motivo_dormir_rua + Tempo_rua_RJ + Atividade_remunerada + Atividade_realizada + Sabe_ler_escrever + Escolaridade_corrigida + Tabaco + Alcool + Maconha_Haxixe \n",
    "             + Crack_Similares + Cocaina + Inalantes_Cola_Solvente_Tiner, family = binomial(logit), data=Treino)"
   ]
  },
  {
   "cell_type": "markdown",
   "id": "1c2b0660-e7f1-40b3-86f9-399e9d78ad9c",
   "metadata": {},
   "source": [
    "_Por pssuir muitas variáveis, nem todas são interessantes para o estudo. Para isso, utilizei a função \"step\" que utiliza o método AIC de Estatística. Esse método consiste em realizar diversas combinações com essas 23 variáveis e identificar a combinação que resulta no melhor modelo._"
   ]
  },
  {
   "cell_type": "code",
   "execution_count": null,
   "id": "24577d01-d5b8-4e04-b03e-150e6bdd6186",
   "metadata": {},
   "outputs": [],
   "source": [
    "Modelo_AIC <- step(Modelo)\n",
    "summary(Modelo_AIC)"
   ]
  },
  {
   "cell_type": "markdown",
   "id": "336ffe9a-be76-4613-9a53-d8d8987a6cf3",
   "metadata": {},
   "source": [
    "_Com o summary, conseguimos identificar quais variáveis tiveram um nível de significância de 95%, ou seja, as variáveis com maior influência na decisão de alguém não querer sair da situação de rua._\n",
    "\n",
    "_Essas variáveis foram:_\n",
    "\n",
    "_Faixa etária de 70 a 79 anos, sexo masculino, ser andarilho, nômade e/ou viajante, ser um migrante ou refugiado, ficar perto do trabalho, ter saido do sistema prisional, fazer uso de crack/similares e fazer uso de cocaína._"
   ]
  },
  {
   "cell_type": "markdown",
   "id": "0179e950-c5f4-42da-be6a-75df403aa510",
   "metadata": {},
   "source": [
    "Por fim, com o intuito de avaliar a capacidade preditiva do modelo, fiz uma matriz de confusão para calcular algumas métricas como Sensibilidade, Especificadade e Taxa Global."
   ]
  },
  {
   "cell_type": "code",
   "execution_count": null,
   "id": "e7a0336e-3c6d-4985-a633-5ca842845478",
   "metadata": {},
   "outputs": [],
   "source": [
    "Teste$predicted.Necessidade_sair_situacao = predict(Modelo_AIC, newdata=Teste, type=\"response\")\n",
    "table(Teste$Necessidade_sair_situacao, Teste$predicted.Necessidade_sair_situacao > 0.5)"
   ]
  },
  {
   "cell_type": "markdown",
   "id": "2e56bc7d-72f9-40fc-8529-72b422f7fa7f",
   "metadata": {},
   "source": [
    "Sensibilidade"
   ]
  },
  {
   "cell_type": "code",
   "execution_count": null,
   "id": "e1809205-f3bc-4018-a3a5-185e182fceaa",
   "metadata": {},
   "outputs": [],
   "source": [
    "Sensibilidade = 998/(3+998)\n",
    "print(Sensibilidade)"
   ]
  },
  {
   "cell_type": "markdown",
   "id": "d755593f-b5f8-4a8d-8078-fc7e028178ad",
   "metadata": {},
   "source": [
    "Especificidade"
   ]
  },
  {
   "cell_type": "code",
   "execution_count": null,
   "id": "732875dc-f89f-4ebf-b30f-766e40ccff0c",
   "metadata": {},
   "outputs": [],
   "source": [
    "Especifidade = 1/(1+63)\n",
    "print(Especifidade)"
   ]
  },
  {
   "cell_type": "markdown",
   "id": "224510c7-7819-4feb-9aa1-a307e61e8687",
   "metadata": {},
   "source": [
    "Taxa Global"
   ]
  },
  {
   "cell_type": "code",
   "execution_count": null,
   "id": "39101a76-b181-4064-9998-13873a104a84",
   "metadata": {},
   "outputs": [],
   "source": [
    "Taxa_Global = (1+998)/(1+63+3+998)\n",
    "print(Taxa_Global)"
   ]
  },
  {
   "cell_type": "markdown",
   "id": "abe305d7-09ce-4339-90ac-a12b6950f0a8",
   "metadata": {},
   "source": [
    ">**Conclusão**\n",
    "\n",
    "O modelo de regressão logística nos ajudou a entender quais grupos de pessoas são mais propensas à não quererem deixar de morar na rua. Como por exemplo, os moradores de rua que fazem uso de crack/similares e cocaína tem maior probabilidade de não quererem sair da rua, esse fato pode levantar questões como por exemplo a liberação das drogas. Será que a liberação aumentaria o número de pessoas nessa situação? Outro ponto interessante é que pessoas que sairam do sistema prisional também apresentam maior probabilidade de não quererem sair dessa situação. Talvez isso se deve ao fato de muitas empresas não darem oportunidade para essas pessoas e consequentemente elas não conseguem enxergar um futuro melhor não conseguindo um emprego e se veem nessa situação para sempre."
   ]
  },
  {
   "cell_type": "markdown",
   "id": "4741c448-57e0-46ee-ae8b-abbf3a5d3a74",
   "metadata": {},
   "source": [
    "**A base de dados pode ser baixada no site oficial do Instituto no seguinte link:**\n",
    "\n",
    "[Link para o site com a planilha](https://psr2020-pcrj.hub.arcgis.com/documents/PCRJ::censo-de-população-em-situação-de-rua-2020-entrevistas-resultados-gerais/about)"
   ]
  },
  {
   "cell_type": "markdown",
   "id": "d6dddbd7-57c4-44d5-a547-b2b5c40047f6",
   "metadata": {},
   "source": [
    "Yan de Aquino Pereira"
   ]
  }
 ],
 "metadata": {
  "kernelspec": {
   "display_name": "R",
   "language": "R",
   "name": "conda-env-r-r"
  },
  "language_info": {
   "codemirror_mode": "r",
   "file_extension": ".r",
   "mimetype": "text/x-r-source",
   "name": "R",
   "pygments_lexer": "r",
   "version": "3.5.1"
  }
 },
 "nbformat": 4,
 "nbformat_minor": 5
}
