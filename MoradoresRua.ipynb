{
 "cells": [
  {
   "cell_type": "markdown",
   "id": "800a93d1-db5d-4ada-a01b-ad753dad0934",
   "metadata": {},
   "source": [
    ">__Estudo feito sobre moradores de rua__"
   ]
  },
  {
   "cell_type": "markdown",
   "id": "c0edf006-a394-401c-b021-8ce0afd6ccbd",
   "metadata": {},
   "source": [
    "##### Utilizando a base do censo realizado em 2020 pelo Instituto Pereira Passos"
   ]
  },
  {
   "cell_type": "markdown",
   "id": "f6209284-9fc8-4c44-837e-4dde3818caed",
   "metadata": {},
   "source": [
    "* O objetivo do estudo é entender quais variáveis são as que mais explicam o fato de algum morador de rua responder que não tem interesse em sair dessa situação."
   ]
  },
  {
   "cell_type": "markdown",
   "id": "d32a5d26-e98f-49ee-bf6b-0b5feafdf874",
   "metadata": {},
   "source": [
    "Primeira parte do estudo foi entender a base que temos e realizar toda a limpeza dos dados. O censo resultou em uma tabela com mais de 100 variáveis e 7.272 observações. Cada uma dessa observação é independente pois representa cada morador de rua."
   ]
  },
  {
   "cell_type": "markdown",
   "id": "46e95fba-2bd6-4510-9e71-350b099205df",
   "metadata": {},
   "source": [
    "O processo de limpeza e análise descritiva dos dados foram feitos no Excel por conta da baixa quantidade de observações."
   ]
  },
  {
   "cell_type": "markdown",
   "id": "71c960ff-2869-4381-8378-58c1621afd31",
   "metadata": {},
   "source": [
    "A tabela final que foi utilizada para o estudo possui 3.548 observações e mantive 23 variáveis que identifiquei como interessante para o estudo. As variáveis são:\n",
    "\n",
    "_Rua ou Acolhimento, Estado, Bairro, Faixa Etária, Classificação idade, Sexo, Gênero, Cor, Contato com a família, motivo de dormir na rua, tempo na rua, atividade remunerada, atividade realizada, Recebe outras fontes de renda, saber ler e escrever, Escolaridade, Tabaco, Álcool, Maconha/Haxixe, Crack/similares, Cocaína, Inalantes/cola/solvente/tiner, necessidade de sair da situação._"
   ]
  },
  {
   "cell_type": "markdown",
   "id": "095ec32c-eeca-47d2-8022-9833a5c1356f",
   "metadata": {},
   "source": [
    "A última variável acima é \"Necessidade de sair da situação\" e nessa variável há duas respostas possíveis, sendo \"Quero sair da rua\" e \"Não quero sair da rua\". Da base utilizada, aproximadamente 6% respondeu que não deseja sair da rua. Esse resultado chamou atenção e resolvi tentar entender quais das outras variáveis tem um grau de significância maior para explicar a possibilidade de alguém responder que não deseja sair dessa situação."
   ]
  },
  {
   "cell_type": "markdown",
   "id": "95424f48-fa0a-4593-9070-3f6b4aee90d9",
   "metadata": {},
   "source": [
    "__O método utilizado para essa análise foi a criação de um modelo de regressão logística binário, já que a nossa variável dependente possui apenas duas categorias.__"
   ]
  },
  {
   "cell_type": "markdown",
   "id": "4b45d555-02c9-4be7-9db7-d595af5e92d0",
   "metadata": {},
   "source": [
    "_Importando as bibliotecas que serão utilizadas._"
   ]
  },
  {
   "cell_type": "code",
   "execution_count": 3,
   "id": "7e1d055a-9199-4f9f-89b3-0bb17bb6ae4e",
   "metadata": {},
   "outputs": [],
   "source": [
    "library(tidyverse)"
   ]
  },
  {
   "cell_type": "code",
   "execution_count": null,
   "id": "8fb9118e-44e5-4ad6-8340-b46242c8058f",
   "metadata": {},
   "outputs": [],
   "source": [
    "library(readxl)"
   ]
  },
  {
   "cell_type": "markdown",
   "id": "c53eeac0-f8ea-4c88-beec-3128c64058cb",
   "metadata": {},
   "source": [
    "_Primeira parte da programação foi importar a base que será utilizada e fazer as primeiras avaliações._\n",
    "\n",
    "_Utilizei o summary para avaliar os nomes das colunas, a quantidade de observações e a classe da variável._\n",
    "\n",
    "_AnyNA para confirmar que o tratamento no Excel foi feito corretamente e não temos mais nenhum NA._"
   ]
  },
  {
   "cell_type": "code",
   "execution_count": null,
   "id": "c1fd1e76-9f0a-41af-bfff-a026d6eda4af",
   "metadata": {},
   "outputs": [],
   "source": [
    "Base <- read_excel(\"E:/Projetos/Moradores de Rua/Base variaveis definidas.xlsx\", sheet = 7, col_names = TRUE)"
   ]
  },
  {
   "cell_type": "markdown",
   "id": "bc759654-6064-423c-b0ef-66c42d7e2bb6",
   "metadata": {},
   "source": [
    "_Transformando todas as 23 variáveis para fator e utilizando o summary mais uma vez. Porém dessa vez, o summary ele trará a quantidade de observações por categoria._"
   ]
  },
  {
   "cell_type": "code",
   "execution_count": null,
   "id": "78314605-9ccc-4a2c-bedb-6ae32e7e3b19",
   "metadata": {},
   "outputs": [],
   "source": [
    "Base$RuaAcolhimento <- as.factor(Base$RuaAcolhimento)\n",
    "Base$Estado <- as.factor(Base$Estado)\n",
    "Base$Bairro <- as.factor(Base$Bairro)\n",
    "Base$Faixa_etaria <- as.factor(Base$Faixa_etaria)\n",
    "Base$Classificacao_idade <- as.factor(Base$Classificacao_idade)\n",
    "Base$Sexo <- as.factor(Base$Sexo)\n",
    "Base$Genero <- as.factor(Base$Genero)\n",
    "Base$Cor_raca <- as.factor(Base$Cor_raca)\n",
    "Base$Contato_familia <- as.factor(Base$Contato_familia)\n",
    "Base$Motivo_dormir_rua <- as.factor(Base$Motivo_dormir_rua)\n",
    "Base$Tempo_rua_RJ <- as.factor(Base$Tempo_rua_RJ)\n",
    "Base$Atividade_remunerada <- as.factor(Base$Atividade_remunerada)\n",
    "Base$Atividade_realizada <- as.factor(Base$Atividade_realizada)\n",
    "Base$Recebe_outras_fontes_de_renda <- as.factor(Base$Recebe_outras_fontes_de_renda)\n",
    "Base$Sabe_ler_escrever <- as.factor(Base$Sabe_ler_escrever)\n",
    "Base$Escolaridade_corrigida <- as.factor(Base$Escolaridade_corrigida)\n",
    "Base$Tabaco <- as.factor(Base$Tabaco)\n",
    "Base$Alcool <- as.factor(Base$Alcool)\n",
    "Base$Maconha_Haxixe <- as.factor(Base$Maconha_Haxixe)\n",
    "Base$Crack_Similares <- as.factor(Base$Crack_Similares)\n",
    "Base$Cocaina <- as.factor(Base$Cocaina)\n",
    "Base$Inalantes_Cola_Solvente_Tiner <- as.factor(Base$Inalantes_Cola_Solvente_Tiner)\n",
    "Base$Necessidade_sair_situacao <- as.factor(Base$Necessidade_sair_situacao)\n",
    "summary(Base)"
   ]
  },
  {
   "cell_type": "markdown",
   "id": "14010b65-9e54-4a27-bb15-115473e9f4fa",
   "metadata": {},
   "source": [
    "_Código abaixo para verificar as categorias de referência de cada variável._\n",
    "\n",
    "_Utilizei o comando str para verificar a quantidade de categorias por variável e confirmar se todas estão como fator._"
   ]
  },
  {
   "cell_type": "code",
   "execution_count": null,
   "id": "a75e2143-dcc2-40f3-90af-3447d2d69b21",
   "metadata": {},
   "outputs": [],
   "source": [
    "levels(Base$RuaAcolhimento)                   ## Categoria de referência é Acolhidos\n",
    "levels(Base$Estado)                           ## Categoria de referência é Acre\n",
    "levels(Base$Bairro)                           ## Categoria de referência é Anchieta\n",
    "levels(Base$Faixa_etaria)                     ## Categoria de referência é 12 a 17\n",
    "levels(Base$Classificacao_idade)              ## Categoria de referência é Adolescente\n",
    "levels(Base$Sexo)                             ## Categoria de referência é Feminino\n",
    "levels(Base$Genero)                           ## Categoria de referência é Homem Cis\n",
    "levels(Base$Cor_raca)                         ## Categoria de referência é Amarela\n",
    "levels(Base$Contato_familia)                  ## Categoria de referência é Acre\n",
    "levels(Base$Motivo_dormir_rua)                ## Categoria de referência é Alcoolismo e/ou uso de drogas\n",
    "levels(Base$Tempo_rua_RJ)                     ## Categoria de referência é Mais de 1 ano até 5 anos\n",
    "levels(Base$Atividade_remunerada)             ## Categoria de referência é Não\n",
    "levels(Base$Atividade_realizada)              ## Categoria de referência é Carregador/Estivador\n",
    "levels(Base$Recebe_outras_fontes_de_renda)    ## Categoria de referência é Sim\n",
    "levels(Base$Sabe_ler_escrever)                ## Categoria de referência é Não, não sei ler e escrever um bilhete simples\n",
    "levels(Base$Escolaridade_corrigida)           ## Categoria de referência é Fundamental completo\n",
    "levels(Base$Tabaco)                           ## Categoria de referência é Não\n",
    "levels(Base$Alcool)                           ## Categoria de referência é Não\n",
    "levels(Base$Maconha_Haxixe)                   ## Categoria de referência é Não\n",
    "levels(Base$Crack_Similares)                  ## Categoria de referência é Não\n",
    "levels(Base$Cocaina)                          ## Categoria de referência é Não\n",
    "levels(Base$Inalantes_Cola_Solvente_Tiner)    ## Categoria de referência é Não\n",
    "levels(Base$Necessidade_sair_situacao)        ## Categoria de referência é Não quero sair da rua   ## Lembrar de trocar para a categoria de referência ser \"quero sair da rua\" para avaliarmos as variáveis que explicam melhor isso.\n",
    "\n",
    "str(Base)"
   ]
  },
  {
   "cell_type": "markdown",
   "id": "114c8ed0-afe4-4cdb-93ed-b3da4b5a9d5f",
   "metadata": {},
   "source": [
    "_Agora com a base pronta, separei a base sendo __70%__ para treino e __30%__ para teste._"
   ]
  },
  {
   "cell_type": "code",
   "execution_count": null,
   "id": "6da225aa-1e9d-470a-b7d2-3b6e330dadc4",
   "metadata": {},
   "outputs": [],
   "source": [
    "set.seed(101)\n",
    "Amostra <- sample.split(Base$Necessidade_sair_situacao, SplitRatio = 0.7)\n",
    "Treino = subset(Base,Amostra == TRUE)\n",
    "Teste = subset(Base,Amostra == FALSE)"
   ]
  },
  {
   "cell_type": "markdown",
   "id": "65203011-7662-4d97-8938-76f3de3bfa48",
   "metadata": {},
   "source": [
    "_Agora criei a base \"Modelo\" criando a regressão logística considerando todas as variáveis menos \"Recebe_outras_fontes_de_renda\" por possuir apenas 1 categoria._"
   ]
  },
  {
   "cell_type": "code",
   "execution_count": null,
   "id": "0cbb99c1-f64e-4f53-a377-7eb4dd179cf7",
   "metadata": {},
   "outputs": [],
   "source": [
    "Modelo = glm(Treino$Necessidade_sair_situacao ~ RuaAcolhimento +  Estado + Bairro + Faixa_etaria + Classificacao_idade + Sexo + Cor_raca + Contato_familia \n",
    "             + Motivo_dormir_rua + Tempo_rua_RJ + Atividade_remunerada + Atividade_realizada + Sabe_ler_escrever + Escolaridade_corrigida + Tabaco + Alcool + Maconha_Haxixe \n",
    "             + Crack_Similares + Cocaina + Inalantes_Cola_Solvente_Tiner, family = binomial(logit), data=Treino)"
   ]
  },
  {
   "cell_type": "markdown",
   "id": "1c2b0660-e7f1-40b3-86f9-399e9d78ad9c",
   "metadata": {},
   "source": [
    "_Por pssuir muitas variáveis, nem todas são interessantes para o estudo. Para isso, utilizei a função \"step\" que utiliza o método AIC de Estatística. Esse método consiste em realizar diversas combinações com essas 23 variáveis e identificar a combinação que resulta no melhor modelo._"
   ]
  },
  {
   "cell_type": "code",
   "execution_count": null,
   "id": "24577d01-d5b8-4e04-b03e-150e6bdd6186",
   "metadata": {},
   "outputs": [],
   "source": [
    "Modelo_AIC <- step(Modelo)\n",
    "summary(Modelo_AIC)"
   ]
  },
  {
   "cell_type": "markdown",
   "id": "336ffe9a-be76-4613-9a53-d8d8987a6cf3",
   "metadata": {},
   "source": [
    "_Com o summary, conseguimos identificar quais variáveis tiveram um nível de significância de 95%, ou seja, as variáveis com maior influência na decisão de alguém não querer sair da situação de rua._\n",
    "\n",
    "_Essas variáveis foram:_\n",
    "\n",
    "_Faixa etária de 70 a 79 anos, sexo masculino, ser andarilho, nômade e/ou viajante, ser um migrante ou refugiado, ficar perto do trabalho, ter saido do sistema prisional, fazer uso de crack/similares e fazer uso de cocaína._"
   ]
  },
  {
   "cell_type": "markdown",
   "id": "0179e950-c5f4-42da-be6a-75df403aa510",
   "metadata": {},
   "source": [
    "Por fim, com o intuito de avaliar a capacidade preditiva do modelo, fiz uma matriz de confusão para calcular algumas métricas como Sensibilidade, Especificadade e Taxa Global."
   ]
  },
  {
   "cell_type": "code",
   "execution_count": null,
   "id": "e7a0336e-3c6d-4985-a633-5ca842845478",
   "metadata": {},
   "outputs": [],
   "source": [
    "Teste$predicted.Necessidade_sair_situacao = predict(Modelo_AIC, newdata=Teste, type=\"response\")\n",
    "table(Teste$Necessidade_sair_situacao, Teste$predicted.Necessidade_sair_situacao > 0.5)"
   ]
  },
  {
   "cell_type": "markdown",
   "id": "2e56bc7d-72f9-40fc-8529-72b422f7fa7f",
   "metadata": {},
   "source": [
    "Sensibilidade"
   ]
  },
  {
   "cell_type": "code",
   "execution_count": null,
   "id": "e1809205-f3bc-4018-a3a5-185e182fceaa",
   "metadata": {},
   "outputs": [],
   "source": [
    "Sensibilidade = 998/(3+998)\n",
    "print(Sensibilidade)"
   ]
  },
  {
   "cell_type": "markdown",
   "id": "d755593f-b5f8-4a8d-8078-fc7e028178ad",
   "metadata": {},
   "source": [
    "Especificidade"
   ]
  },
  {
   "cell_type": "code",
   "execution_count": null,
   "id": "732875dc-f89f-4ebf-b30f-766e40ccff0c",
   "metadata": {},
   "outputs": [],
   "source": [
    "Especifidade = 1/(1+63)\n",
    "print(Especifidade)"
   ]
  },
  {
   "cell_type": "markdown",
   "id": "224510c7-7819-4feb-9aa1-a307e61e8687",
   "metadata": {},
   "source": [
    "Taxa Global"
   ]
  },
  {
   "cell_type": "code",
   "execution_count": null,
   "id": "39101a76-b181-4064-9998-13873a104a84",
   "metadata": {},
   "outputs": [],
   "source": [
    "Taxa_Global = (1+998)/(1+63+3+998)\n",
    "print(Taxa_Global)"
   ]
  },
  {
   "cell_type": "markdown",
   "id": "abe305d7-09ce-4339-90ac-a12b6950f0a8",
   "metadata": {},
   "source": [
    ">**Conclusão**\n",
    "\n",
    "O modelo de regressão logística nos ajudou a entender quais grupos de pessoas são mais propensas à não quererem deixar de morar na rua. Como por exemplo, os moradores de rua que fazem uso de crack/similares e cocaína tem maior probabilidade de não quererem sair da rua, esse fato pode levantar questões como por exemplo a liberação das drogas. Será que a liberação aumentaria o número de pessoas nessa situação? Outro ponto interessante é que pessoas que sairam do sistema prisional também apresentam maior probabilidade de não quererem sair dessa situação. Talvez isso se deve ao fato de muitas empresas não darem oportunidade para essas pessoas e consequentemente elas não conseguem enxergar um futuro melhor não conseguindo um emprego e se veem nessa situação para sempre."
   ]
  },
  {
   "cell_type": "markdown",
   "id": "4741c448-57e0-46ee-ae8b-abbf3a5d3a74",
   "metadata": {},
   "source": [
    "**A base de dados pode ser baixada no site oficial do Instituto no seguinte link:**\n",
    "\n",
    "[Link para o site com a planilha](https://psr2020-pcrj.hub.arcgis.com/documents/PCRJ::censo-de-população-em-situação-de-rua-2020-entrevistas-resultados-gerais/about)"
   ]
  },
  {
   "cell_type": "markdown",
   "id": "d6dddbd7-57c4-44d5-a547-b2b5c40047f6",
   "metadata": {},
   "source": [
    "Yan de Aquino Pereira"
   ]
  }
 ],
 "metadata": {
  "kernelspec": {
   "display_name": "R",
   "language": "R",
   "name": "conda-env-r-r"
  },
  "language_info": {
   "codemirror_mode": "r",
   "file_extension": ".r",
   "mimetype": "text/x-r-source",
   "name": "R",
   "pygments_lexer": "r",
   "version": "3.5.1"
  }
 },
 "nbformat": 4,
 "nbformat_minor": 5
}
